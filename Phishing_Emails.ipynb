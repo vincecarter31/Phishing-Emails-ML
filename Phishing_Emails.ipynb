{
 "cells": [
  {
   "cell_type": "markdown",
   "id": "78d41392",
   "metadata": {},
   "source": [
    "This is my code file for my latest machine learning project where I am tasked with differentiating between phishing emails and normal emails."
   ]
  },
  {
   "cell_type": "code",
   "execution_count": 56,
   "id": "f5fa77f2",
   "metadata": {},
   "outputs": [
    {
     "name": "stdout",
     "output_type": "stream",
     "text": [
     
     
      "   ---------------------------------------- 0.0/11.6 MB ? eta -:--:--\n",
      "   ---------------------------------------- 0.0/11.6 MB 2.0 MB/s eta 0:00:06\n",
      "    --------------------------------------- 0.3/11.6 MB 4.3 MB/s eta 0:00:03\n",
      "   - -------------------------------------- 0.5/11.6 MB 4.2 MB/s eta 0:00:03\n",
      "   -- ------------------------------------- 0.8/11.6 MB 4.8 MB/s eta 0:00:03\n",
      "   --- ------------------------------------ 1.0/11.6 MB 4.9 MB/s eta 0:00:03\n",
      "   ---- ----------------------------------- 1.3/11.6 MB 5.2 MB/s eta 0:00:02\n",
      "   ----- ---------------------------------- 1.7/11.6 MB 5.6 MB/s eta 0:00:02\n",
      "   ------ --------------------------------- 2.0/11.6 MB 5.8 MB/s eta 0:00:02\n",
      "   ------- -------------------------------- 2.3/11.6 MB 5.9 MB/s eta 0:00:02\n",
      "   --------- ------------------------------ 2.6/11.6 MB 6.0 MB/s eta 0:00:02\n",
      "   --------- ------------------------------ 2.9/11.6 MB 6.1 MB/s eta 0:00:02\n",
      "   ---------- ----------------------------- 3.2/11.6 MB 6.0 MB/s eta 0:00:02\n",
      "   ----------- ---------------------------- 3.5/11.6 MB 6.0 MB/s eta 0:00:02\n",
      "   ------------ --------------------------- 3.7/11.6 MB 5.9 MB/s eta 0:00:02\n",
      "   ------------- -------------------------- 4.0/11.6 MB 5.9 MB/s eta 0:00:02\n",
      "   -------------- ------------------------- 4.4/11.6 MB 6.0 MB/s eta 0:00:02\n",
      "   --------------- ------------------------ 4.6/11.6 MB 6.0 MB/s eta 0:00:02\n",
      "   ---------------- ----------------------- 4.9/11.6 MB 6.0 MB/s eta 0:00:02\n",
      "   ----------------- ---------------------- 5.2/11.6 MB 6.0 MB/s eta 0:00:02\n",
      "   ------------------ --------------------- 5.3/11.6 MB 6.1 MB/s eta 0:00:02\n",
      "   ------------------ --------------------- 5.3/11.6 MB 6.1 MB/s eta 0:00:02\n",
      "   ------------------ --------------------- 5.3/11.6 MB 6.1 MB/s eta 0:00:02\n",
      "   ------------------ --------------------- 5.3/11.6 MB 6.1 MB/s eta 0:00:02\n",
      "   ------------------ --------------------- 5.3/11.6 MB 6.1 MB/s eta 0:00:02\n",
      "   ------------------ --------------------- 5.3/11.6 MB 6.1 MB/s eta 0:00:02\n",
      "   ------------------ --------------------- 5.3/11.6 MB 6.1 MB/s eta 0:00:02\n",
      "   ------------------ --------------------- 5.3/11.6 MB 6.1 MB/s eta 0:00:02\n",
      "   ------------------ --------------------- 5.3/11.6 MB 6.1 MB/s eta 0:00:02\n",
      "   ------------------ --------------------- 5.4/11.6 MB 4.1 MB/s eta 0:00:02\n",
      "   --------------------- ------------------ 6.2/11.6 MB 4.5 MB/s eta 0:00:02\n",
      "   ---------------------- ----------------- 6.6/11.6 MB 4.7 MB/s eta 0:00:02\n",
      "   ----------------------------- ---------- 8.5/11.6 MB 5.9 MB/s eta 0:00:01\n",
      "   ------------------------------ --------- 8.8/11.6 MB 5.8 MB/s eta 0:00:01\n",
      "   ------------------------------- -------- 9.2/11.6 MB 5.9 MB/s eta 0:00:01\n",
      "   -------------------------------- ------- 9.4/11.6 MB 5.9 MB/s eta 0:00:01\n",
      "   --------------------------------- ------ 9.8/11.6 MB 5.9 MB/s eta 0:00:01\n",
      "   ---------------------------------- ----- 10.2/11.6 MB 6.0 MB/s eta 0:00:01\n",
      "   ----------------------------------- ---- 10.3/11.6 MB 6.0 MB/s eta 0:00:01\n",
      "   ------------------------------------ --- 10.7/11.6 MB 6.1 MB/s eta 0:00:01\n",
      "   ------------------------------------- -- 10.9/11.6 MB 6.1 MB/s eta 0:00:01\n",
      "   -------------------------------------- - 11.3/11.6 MB 6.1 MB/s eta 0:00:01\n",
      "   ---------------------------------------  11.5/11.6 MB 6.2 MB/s eta 0:00:01\n",
      "   ---------------------------------------  11.5/11.6 MB 6.0 MB/s eta 0:00:01\n",
      "   ---------------------------------------  11.5/11.6 MB 5.9 MB/s eta 0:00:01\n",
      "   ---------------------------------------  11.6/11.6 MB 5.8 MB/s eta 0:00:01\n",
      "   ---------------------------------------  11.6/11.6 MB 5.6 MB/s eta 0:00:01\n",
      "   ---------------------------------------  11.6/11.6 MB 5.5 MB/s eta 0:00:01\n",
      "   ---------------------------------------  11.6/11.6 MB 5.3 MB/s eta 0:00:01\n",
      "   ---------------------------------------  11.6/11.6 MB 5.3 MB/s eta 0:00:01\n",
      "   ---------------------------------------  11.6/11.6 MB 5.1 MB/s eta 0:00:01\n",
      "   ---------------------------------------- 11.6/11.6 MB 5.0 MB/s eta 0:00:00\n",
      "Installing collected packages: pandas\n",
      "  Attempting uninstall: pandas\n",
      "    Found existing installation: pandas 2.2.0\n",
      "    Uninstalling pandas-2.2.0:\n",
      "      Successfully uninstalled pandas-2.2.0\n",
      "Successfully installed pandas-2.1.4\n"
     ]
    },
    {
     "name": "stderr",
     "output_type": "stream",
     "text": [
     
     ]
    }
   ],
   "source": [
    "!pip install --upgrade pandas\n"
   ]
  },
  {
   "cell_type": "code",
   "execution_count": 57,
   "id": "58043dea",
   "metadata": {},
   "outputs": [],
   "source": [
    "import pandas as pd\n",
    "\n",
    "df = pd.read_csv(\"Phishing_Email.csv\", index_col = 0)\n",
    "\n",
    "df = df.dropna(subset=['Email Text'])"
   ]
  },
  {
   "cell_type": "markdown",
   "id": "c2a146d5",
   "metadata": {},
   "source": [
    "# Naive Bayes Model non-cleaned"
   ]
  },
  {
   "cell_type": "code",
   "execution_count": 58,
   "id": "4cfceff0",
   "metadata": {},
   "outputs": [
    {
     "name": "stdout",
     "output_type": "stream",
     "text": [
      "              precision    recall  f1-score   support\n",
      "\n",
      "           0       0.86      0.98      0.92      2209\n",
      "           1       0.97      0.76      0.85      1518\n",
      "\n",
      "    accuracy                           0.89      3727\n",
      "   macro avg       0.91      0.87      0.88      3727\n",
      "weighted avg       0.90      0.89      0.89      3727\n",
      "\n",
      "Accuracy: 0.8921384491548162\n"
     ]
    }
   ],
   "source": [
    "from sklearn.model_selection import train_test_split, cross_val_score\n",
    "from sklearn.feature_extraction.text import TfidfVectorizer\n",
    "from sklearn.naive_bayes import MultinomialNB\n",
    "from sklearn.metrics import classification_report, accuracy_score, make_scorer\n",
    "from sklearn.pipeline import make_pipeline\n",
    "\n",
    "X = df['Email Text']\n",
    "y = df['Email Type'].apply(lambda x: 1 if x == 'Phishing Email' else 0)  # Convert labels to binary\n",
    "\n",
    "\n",
    "X_train, X_test, y_train, y_test = train_test_split(X, y, test_size=0.2, random_state=42)\n",
    "\n",
    "# Create a pipeline that combines the TF-IDF vectorizer and Naive Bayes model\n",
    "model = make_pipeline(TfidfVectorizer(), MultinomialNB())\n",
    "\n",
    "model.fit(X_train, y_train)\n",
    "\n",
    "y_pred = model.predict(X_test)\n",
    "\n",
    "print(classification_report(y_test, y_pred))\n",
    "print(f\"Accuracy: {accuracy_score(y_test, y_pred)}\")\n"
   ]
  },
  {
   "cell_type": "markdown",
   "id": "3f0aecc0",
   "metadata": {},
   "source": [
    "# Clean the data"
   ]
  },
  {
   "cell_type": "code",
   "execution_count": 59,
   "id": "7fc48fe6",
   "metadata": {},
   "outputs": [
    {
     "name": "stderr",
     "output_type": "stream",
     "text": [
    
     ]
    },
    {
     "data": {
      "text/plain": [
       "True"
      ]
     },
     "execution_count": 59,
     "metadata": {},
     "output_type": "execute_result"
    }
   ],
   "source": [
    "import nltk\n",
    "\n",
    "nltk.download('punkt')\n",
    "nltk.download('stopwords')\n",
    "nltk.download('wordnet')\n",
    "nltk.download('omw-1.4')"
   ]
  },
  {
   "cell_type": "code",
   "execution_count": 60,
   "id": "1cb1674c",
   "metadata": {},
   "outputs": [],
   "source": [
    "import re\n",
    "import string\n",
    "from nltk.tokenize import word_tokenize\n",
    "from nltk.corpus import stopwords\n",
    "from nltk.stem import WordNetLemmatizer\n",
    "\n",
    "# Function to clean text data\n",
    "def clean_email_text(text):\n",
    "    # Remove HTML tags\n",
    "    text = re.sub(r'<.*?>', '', text)\n",
    "    # Remove special characters and numbers\n",
    "    text = re.sub(r'\\W+', ' ', text)\n",
    "    # Remove single characters\n",
    "    text = re.sub(r'\\s+[a-zA-Z]\\s+', ' ', text)\n",
    "    # Remove single characters from the start\n",
    "    text = re.sub(r'\\^[a-zA-Z]\\s+', ' ', text) \n",
    "    # Replace multiple spaces with a single space\n",
    "    text = re.sub(r'\\s+', ' ', text, flags=re.I)\n",
    "    # Lowercase\n",
    "    text = text.lower()\n",
    "    # Tokenization\n",
    "    tokens = word_tokenize(text)\n",
    "    # Remove stop words and lemmatize\n",
    "    stop_words = set(stopwords.words('english'))\n",
    "    lemmatizer = WordNetLemmatizer()\n",
    "    tokens = [lemmatizer.lemmatize(word) for word in tokens if word not in stop_words and word not in string.punctuation]\n",
    "    # Join the words back into one string\n",
    "    text = ' '.join(tokens)\n",
    "    return text\n",
    "\n",
    "# Apply the cleaning function to your email text\n",
    "df['Cleaned Email Text'] = df['Email Text'].apply(clean_email_text)\n"
   ]
  },
  {
   "cell_type": "markdown",
   "id": "f22378d2",
   "metadata": {},
   "source": [
    "Instead of using Email Type for X, I used Cleaned Email Text, where we removed HTML tags, special characters and numbers,\n",
    "single characters, and replaced multiple spaces with single ones, transformed all characters to lowercase, used \n",
    "tokenization, and removed stop words"
   ]
  },
  {
   "cell_type": "code",
   "execution_count": 61,
   "id": "2b331bcb",
   "metadata": {},
   "outputs": [
    {
     "name": "stdout",
     "output_type": "stream",
     "text": [
      "              precision    recall  f1-score   support\n",
      "\n",
      "           0       0.89      0.98      0.93      2209\n",
      "           1       0.97      0.83      0.89      1518\n",
      "\n",
      "    accuracy                           0.92      3727\n",
      "   macro avg       0.93      0.90      0.91      3727\n",
      "weighted avg       0.92      0.92      0.92      3727\n",
      "\n",
      "Accuracy: 0.9189696807083445\n"
     ]
    }
   ],
   "source": [
    "# Assuming your DataFrame is named df and has columns 'Email Text' for the text and 'Email Type' for the labels\n",
    "X = df['Cleaned Email Text']\n",
    "y = df['Email Type'].apply(lambda x: 1 if x == 'Phishing Email' else 0)  # Convert labels to binary\n",
    "\n",
    "# Split into training and test sets\n",
    "X_train, X_test, y_train, y_test = train_test_split(X, y, test_size=0.2, random_state=42)\n",
    "\n",
    "# Create a pipeline that combines the TF-IDF vectorizer and Naive Bayes model\n",
    "model = make_pipeline(TfidfVectorizer(), MultinomialNB())\n",
    "\n",
    "# Train the model\n",
    "model.fit(X_train, y_train)\n",
    "\n",
    "# Predict the labels for the test set\n",
    "y_pred = model.predict(X_test)\n",
    "\n",
    "# Evaluate the model\n",
    "print(classification_report(y_test, y_pred))\n",
    "print(f\"Accuracy: {accuracy_score(y_test, y_pred)}\")\n"
   ]
  },
  {
   "cell_type": "markdown",
   "id": "f329c688",
   "metadata": {},
   "source": [
    "3% accuracy increase"
   ]
  },
  {
   "cell_type": "markdown",
   "id": "318ad85a",
   "metadata": {},
   "source": [
    "# Random Forest "
   ]
  },
  {
   "cell_type": "code",
   "execution_count": 62,
   "id": "da06b239",
   "metadata": {},
   "outputs": [
    {
     "name": "stdout",
     "output_type": "stream",
     "text": [
      "              precision    recall  f1-score   support\n",
      "\n",
      "           0       0.98      0.96      0.97      2209\n",
      "           1       0.95      0.97      0.96      1518\n",
      "\n",
      "    accuracy                           0.97      3727\n",
      "   macro avg       0.96      0.97      0.96      3727\n",
      "weighted avg       0.97      0.97      0.97      3727\n",
      "\n",
      "Accuracy: 0.9659243359270191\n"
     ]
    }
   ],
   "source": [
    "from sklearn.ensemble import RandomForestClassifier\n",
    "from sklearn.pipeline import make_pipeline\n",
    "\n",
    "# Assuming df is your DataFrame and it's already preprocessed\n",
    "X = df['Cleaned Email Text']  # Make sure this is your preprocessed text\n",
    "y = df['Email Type'].apply(lambda x: 1 if x == 'Phishing Email' else 0)\n",
    "\n",
    "# Split the data into training and testing sets\n",
    "X_train, X_test, y_train, y_test = train_test_split(X, y, test_size=0.2, random_state=42)\n",
    "\n",
    "# Create a pipeline with TF-IDF Vectorizer and Random Forest Classifier\n",
    "pipeline = make_pipeline(TfidfVectorizer(), RandomForestClassifier(n_estimators=100))\n",
    "\n",
    "# Train the model\n",
    "pipeline.fit(X_train, y_train)\n",
    "\n",
    "# Predict the labels for the test set\n",
    "y_pred = pipeline.predict(X_test)\n",
    "\n",
    "# Evaluate the model\n",
    "print(classification_report(y_test, y_pred))\n",
    "print(f\"Accuracy: {accuracy_score(y_test, y_pred)}\")\n"
   ]
  },
  {
   "cell_type": "markdown",
   "id": "b5faefa1",
   "metadata": {},
   "source": [
    "5-Fold Cross Validation"
   ]
  },
  {
   "cell_type": "code",
   "execution_count": 86,
   "id": "7a7bbbeb",
   "metadata": {},
   "outputs": [
    {
     "name": "stdout",
     "output_type": "stream",
     "text": [
      "Number of folds: 5\n",
      "Mean CV Accuracy: 0.9624341587069507\n",
      "Standard Deviation of CV Accuracy: 0.0026249491205507115\n",
      "Number of folds: 6\n",
      "Mean CV Accuracy: 0.9638827798187429\n",
      "Standard Deviation of CV Accuracy: 0.0032593970637385485\n",
      "Number of folds: 7\n",
      "Mean CV Accuracy: 0.9644735429859397\n",
      "Standard Deviation of CV Accuracy: 0.0032555008882908985\n",
      "Number of folds: 8\n",
      "Mean CV Accuracy: 0.9645805960302732\n",
      "Standard Deviation of CV Accuracy: 0.0025706994021242545\n",
      "Number of folds: 9\n",
      "Mean CV Accuracy: 0.9648492732370156\n",
      "Standard Deviation of CV Accuracy: 0.003960730753602902\n",
      "Number of folds: 10\n",
      "Mean CV Accuracy: 0.9649025580597081\n",
      "Standard Deviation of CV Accuracy: 0.00416800962254759\n"
     ]
    }
   ],
   "source": [
    "for i in range(5,11):\n",
    "    num_folds = i\n",
    "\n",
    "    # Use accuracy as the scoring metric\n",
    "    scoring = make_scorer(accuracy_score)\n",
    "\n",
    "    # Perform k-fold cross-validation\n",
    "    cv_scores = cross_val_score(pipeline, X, y, cv=num_folds, scoring=scoring)\n",
    "\n",
    "    # Calculate the mean and standard deviation of the cross-validation scores\n",
    "    mean_cv_score = cv_scores.mean()\n",
    "    std_dev_cv_score = cv_scores.std()\n",
    "\n",
    "    print(f'Number of folds: {num_folds}')\n",
    "    print(f\"Mean CV Accuracy: {mean_cv_score}\")\n",
    "    print(f\"Standard Deviation of CV Accuracy: {std_dev_cv_score}\")"
   ]
  },
  {
   "cell_type": "markdown",
   "id": "be9ca23f",
   "metadata": {},
   "source": [
    "# CNN"
   ]
  },
  {
   "cell_type": "code",
   "execution_count": 87,
   "id": "50a5b113",
   "metadata": {},
   "outputs": [
    {
     "name": "stdout",
     "output_type": "stream",
     "text": [
      "Model: \"sequential_8\"\n",
      "_________________________________________________________________\n",
      " Layer (type)                Output Shape              Param #   \n",
      "=================================================================\n",
      " embedding_6 (Embedding)     (None, 650, 100)          1000000   \n",
      "                                                                 \n",
      " conv1d_1 (Conv1D)           (None, 646, 128)          64128     \n",
      "                                                                 \n",
      " global_max_pooling1d_1 (Gl  (None, 128)               0         \n",
      " obalMaxPooling1D)                                               \n",
      "                                                                 \n",
      " dense_18 (Dense)            (None, 24)                3096      \n",
      "                                                                 \n",
      " dense_19 (Dense)            (None, 1)                 25        \n",
      "                                                                 \n",
      "=================================================================\n",
      "Total params: 1067249 (4.07 MB)\n",
      "Trainable params: 1067249 (4.07 MB)\n",
      "Non-trainable params: 0 (0.00 Byte)\n",
      "_________________________________________________________________\n",
      "Epoch 1/10\n",
      "420/420 [==============================] - 15s 34ms/step - loss: 0.1904 - accuracy: 0.9108 - val_loss: 0.0943 - val_accuracy: 0.9571\n",
      "Epoch 2/10\n",
      "420/420 [==============================] - 13s 30ms/step - loss: 0.0412 - accuracy: 0.9827 - val_loss: 0.0697 - val_accuracy: 0.9705\n",
      "Epoch 3/10\n",
      "420/420 [==============================] - 13s 31ms/step - loss: 0.0226 - accuracy: 0.9887 - val_loss: 0.0750 - val_accuracy: 0.9665\n",
      "Epoch 4/10\n",
      "420/420 [==============================] - 13s 31ms/step - loss: 0.0210 - accuracy: 0.9891 - val_loss: 0.0783 - val_accuracy: 0.9665\n",
      "Epoch 5/10\n",
      "420/420 [==============================] - 13s 31ms/step - loss: 0.0204 - accuracy: 0.9890 - val_loss: 0.0827 - val_accuracy: 0.9678\n",
      "Epoch 6/10\n",
      "420/420 [==============================] - 13s 31ms/step - loss: 0.0202 - accuracy: 0.9893 - val_loss: 0.0834 - val_accuracy: 0.9671\n",
      "Epoch 7/10\n",
      "420/420 [==============================] - 13s 31ms/step - loss: 0.0207 - accuracy: 0.9892 - val_loss: 0.0878 - val_accuracy: 0.9685\n",
      "Epoch 8/10\n",
      "420/420 [==============================] - 12s 29ms/step - loss: 0.0202 - accuracy: 0.9893 - val_loss: 0.0855 - val_accuracy: 0.9685\n",
      "Epoch 9/10\n",
      "420/420 [==============================] - 12s 29ms/step - loss: 0.0194 - accuracy: 0.9894 - val_loss: 0.0916 - val_accuracy: 0.9685\n",
      "Epoch 10/10\n",
      "420/420 [==============================] - 13s 31ms/step - loss: 0.0192 - accuracy: 0.9894 - val_loss: 0.0939 - val_accuracy: 0.9685\n",
      "117/117 [==============================] - 1s 8ms/step - loss: 0.1144 - accuracy: 0.9713\n",
      "Test Loss: 0.11438120901584625, Test Accuracy: 0.9712905883789062\n"
     ]
    }
   ],
   "source": [
    "import numpy as np\n",
    "import tensorflow as tf\n",
    "from tensorflow.keras.preprocessing.text import Tokenizer\n",
    "from tensorflow.keras.preprocessing.sequence import pad_sequences\n",
    "from tensorflow.keras.models import Sequential\n",
    "from tensorflow.keras.layers import Embedding, Conv1D, MaxPooling1D, GlobalMaxPooling1D, Dense\n",
    "from sklearn.model_selection import train_test_split\n",
    "\n",
    "# Parameters\n",
    "vocab_size = 10000  # Number of unique tokens\n",
    "max_length = 650  # Max length of a sequence\n",
    "embedding_dim = 100  # Dimensionality of embedding vector\n",
    "trunc_type = 'post'\n",
    "padding_type = 'post' #to have a uniform shape and size. Adds padding at end of sequence\n",
    "oov_tok = '<OOV>'\n",
    "\n",
    "# Tokenize and pad sequences\n",
    "tokenizer = Tokenizer(num_words=vocab_size, oov_token=oov_tok)\n",
    "tokenizer.fit_on_texts(X)\n",
    "sequences = tokenizer.texts_to_sequences(X)\n",
    "padded_sequences = pad_sequences(sequences, maxlen=max_length, padding=padding_type, truncating=trunc_type)\n",
    "\n",
    "# Split the data\n",
    "X_train, X_test, y_train, y_test = train_test_split(padded_sequences, y, test_size=0.2, random_state=42)\n",
    "\n",
    "# CNN Model\n",
    "model = Sequential([\n",
    "    Embedding(vocab_size, embedding_dim, input_length=max_length),\n",
    "    Conv1D(128, 5, activation='relu'),\n",
    "    GlobalMaxPooling1D(),\n",
    "    Dense(24, activation='relu'),\n",
    "    Dense(1, activation='sigmoid')\n",
    "])\n",
    "\n",
    "# Compile the model\n",
    "model.compile(loss='binary_crossentropy' , optimizer='adam', metrics=['accuracy']) #BC designed for binary classification tasks\n",
    "\n",
    "# Model summary\n",
    "model.summary()\n",
    "\n",
    "# Train the model\n",
    "history = model.fit(X_train, y_train, epochs=10, validation_split=0.1, batch_size=32)\n",
    "\n",
    "# Evaluate the model\n",
    "test_loss, test_acc = model.evaluate(X_test, y_test)\n",
    "print(f'Test Loss: {test_loss}, Test Accuracy: {test_acc}')\n"
   ]
  },
  {
   "cell_type": "markdown",
   "id": "e83bbb80",
   "metadata": {},
   "source": [
    "# CNN With Early Stopping"
   ]
  },
  {
   "cell_type": "code",
   "execution_count": 65,
   "id": "cecc1636",
   "metadata": {},
   "outputs": [
    {
     "name": "stdout",
     "output_type": "stream",
     "text": [
      "Epoch 1/10\n",
      "420/420 [==============================] - 4s 9ms/step - loss: 0.0192 - accuracy: 0.9894 - val_loss: 0.1540 - val_accuracy: 0.9604\n",
      "Epoch 2/10\n",
      "420/420 [==============================] - 4s 9ms/step - loss: 0.0191 - accuracy: 0.9895 - val_loss: 0.1561 - val_accuracy: 0.9618\n",
      "Epoch 3/10\n",
      "420/420 [==============================] - 4s 9ms/step - loss: 0.0189 - accuracy: 0.9895 - val_loss: 0.1627 - val_accuracy: 0.9618\n",
      "Epoch 4/10\n",
      "414/420 [============================>.] - ETA: 0s - loss: 0.0186 - accuracy: 0.9897Restoring model weights from the end of the best epoch: 1.\n",
      "420/420 [==============================] - 4s 9ms/step - loss: 0.0189 - accuracy: 0.9895 - val_loss: 0.1676 - val_accuracy: 0.9624\n",
      "Epoch 4: early stopping\n"
     ]
    }
   ],
   "source": [
    "from tensorflow.keras.callbacks import EarlyStopping\n",
    "\n",
    "# Define early stopping callback\n",
    "early_stopping = EarlyStopping(monitor='val_loss',  # Monitor validation loss\n",
    "                               patience=3,  # Number of epochs with no improvement after which training will be stopped\n",
    "                               verbose=1,  # Logging level\n",
    "                               restore_best_weights=True)  # Restore model weights from the epoch with the best value of the monitored quantity\n",
    "\n",
    "# Train the model with the early stopping callback\n",
    "history = model.fit(X_train, y_train,\n",
    "                    epochs=10,\n",
    "                    batch_size=32,\n",
    "                    validation_split=0.1,\n",
    "                    callbacks=[early_stopping])  # Add early stopping callback here\n"
   ]
  },
  {
   "cell_type": "code",
   "execution_count": 66,
   "id": "07f0e9d9",
   "metadata": {},
   "outputs": [
    {
     "data": {
      "image/png": "[encoded data removed]",
      "text/plain": [
       "<Figure size 640x480 with 1 Axes>"
      ]
     },
     "metadata": {},
     "output_type": "display_data"
    },
    {
     "data": {
      "image/png": "[encoded data removed]",
      "text/plain": [
       "<Figure size 640x480 with 1 Axes>"
      ]
     },
     "metadata": {},
     "output_type": "display_data"
    }
   ],
   "source": [
    "import matplotlib.pyplot as plt\n",
    "\n",
    "# Plot training & validation accuracy values\n",
    "plt.plot(history.history['accuracy'])\n",
    "plt.plot(history.history['val_accuracy'])\n",
    "plt.title('Model accuracy')\n",
    "plt.ylabel('Accuracy')\n",
    "plt.xlabel('Epoch')\n",
    "plt.legend(['Train', 'Validation'], loc='upper left')\n",
    "plt.show()\n",
    "\n",
    "# Plot training & validation loss values\n",
    "plt.plot(history.history['loss'])\n",
    "plt.plot(history.history['val_loss'])\n",
    "plt.title('Model loss')\n",
    "plt.ylabel('Loss')\n",
    "plt.xlabel('Epoch')\n",
    "plt.legend(['Train', 'Validation'], loc='upper left')\n",
    "plt.show()\n"
   ]
  },
  {
   "cell_type": "code",
   "execution_count": 67,
   "id": "4baf6daa",
   "metadata": {},
   "outputs": [
    {
     "data": {
      "text/plain": [
       "3        \\nHello I am your hot lil horny toy.\\n    I am...\n",
       "4        software at incredibly low prices ( 86 % lower...\n",
       "7        entourage , stockmogul newsletter ralph velez ...\n",
       "8        we owe you lots of money dear applicant , afte...\n",
       "10       make her beg you to give it to her everynight ...\n",
       "                               ...                        \n",
       "18635    congratulations you have won ! ! ! pls contact...\n",
       "18638                                                empty\n",
       "18639    strong buy alert : monthly newsletter topstock...\n",
       "18646    date a lonely housewife always wanted to date ...\n",
       "18650                                                empty\n",
       "Name: Email Text, Length: 7312, dtype: object"
      ]
     },
     "execution_count": 67,
     "metadata": {},
     "output_type": "execute_result"
    }
   ],
   "source": [
    "df[df['Email Type'] == 'Phishing Email']['Email Text']"
   ]
  },
  {
   "cell_type": "code",
   "execution_count": null,
   "id": "850eed12",
   "metadata": {},
   "outputs": [],
   "source": []
  },
  {
   "cell_type": "code",
   "execution_count": null,
   "id": "165d6cf4",
   "metadata": {},
   "outputs": [],
   "source": []
  },
  {
   "cell_type": "code",
   "execution_count": null,
   "id": "8e4a97c5",
   "metadata": {},
   "outputs": [],
   "source": []
  },
  {
   "cell_type": "code",
   "execution_count": null,
   "id": "0e7d3733",
   "metadata": {},
   "outputs": [],
   "source": []
  },
  {
   "cell_type": "code",
   "execution_count": null,
   "id": "aed8b662",
   "metadata": {},
   "outputs": [],
   "source": []
  },
  {
   "cell_type": "code",
   "execution_count": null,
   "id": "a9b41538",
   "metadata": {},
   "outputs": [],
   "source": []
  },
  {
   "cell_type": "code",
   "execution_count": null,
   "id": "dae3ab53",
   "metadata": {},
   "outputs": [],
   "source": []
  },
  {
   "cell_type": "code",
   "execution_count": null,
   "id": "52059c2a",
   "metadata": {},
   "outputs": [],
   "source": []
  },
  {
   "cell_type": "markdown",
   "id": "cb94042d-cca4-443e-86ff-1f9b9ff8d83d",
   "metadata": {},
   "source": [
    "Word Embedding"
   ]
  },
  {
   "cell_type": "code",
   "execution_count": 68,
   "id": "06a58420-5c79-474b-8dc2-c2524c52dd83",
   "metadata": {},
   "outputs": [],
   "source": [
    "#tokenize\n",
    "from tensorflow.keras.preprocessing.text import Tokenizer\n",
    "from tensorflow.keras.preprocessing.sequence import pad_sequences\n",
    "\n",
    "# Initialize and fit the tokenizer\n",
    "tokenizer = Tokenizer()\n",
    "tokenizer.fit_on_texts(X)\n",
    "sequences = tokenizer.texts_to_sequences(X)\n",
    "\n",
    "# Choose a maximum length\n",
    "max_length = 650 \n",
    "\n",
    "X_padded = pad_sequences(sequences, padding='post', maxlen=max_length)\n",
    "\n"
   ]
  },
  {
   "cell_type": "code",
   "execution_count": 69,
   "id": "62ad7b1a-ed97-4c9a-a050-807c1f8e3055",
   "metadata": {},
   "outputs": [],
   "source": [
    "X_padded = pad_sequences(sequences, padding='post', maxlen=max_length, truncating='post')"
   ]
  },
  {
   "cell_type": "code",
   "execution_count": 70,
   "id": "38f8624a-85cf-402f-b2b3-dac2ebae4c33",
   "metadata": {},
   "outputs": [
    {
     "data": {
      "image/png": "[encoded data removed]",
      "text/plain": [
       "<Figure size 640x480 with 1 Axes>"
      ]
     },
     "metadata": {},
     "output_type": "display_data"
    }
   ],
   "source": [
    "import matplotlib.pyplot as plt\n",
    "\n",
    "sequence_lengths = [len(seq) for seq in sequences]\n",
    "plt.hist(sequence_lengths, bins=30)\n",
    "plt.xlabel('Sequence Length')\n",
    "plt.ylabel('Frequency')\n",
    "plt.title('Distribution of Sequence Lengths')\n",
    "plt.show()\n"
   ]
  },
  {
   "cell_type": "code",
   "execution_count": 71,
   "id": "8d6d0575-cd19-4d71-bb66-ee07b9857c78",
   "metadata": {},
   "outputs": [
    {
     "name": "stdout",
     "output_type": "stream",
     "text": [
      "90th percentile: 384.0\n",
      "95th percentile: 616.3499999999985\n"
     ]
    }
   ],
   "source": [
    "import numpy as np\n",
    "\n",
    "# Assuming sequence_lengths is a list of all sequence lengths\n",
    "sequence_lengths = [len(seq) for seq in sequences]\n",
    "\n",
    "# Calculate the 90th and 95th percentiles\n",
    "pct_90 = np.percentile(sequence_lengths, 90)\n",
    "pct_95 = np.percentile(sequence_lengths, 95)\n",
    "\n",
    "print(f\"90th percentile: {pct_90}\")\n",
    "print(f\"95th percentile: {pct_95}\")\n"
   ]
  },
  {
   "cell_type": "code",
   "execution_count": 72,
   "id": "cc7cc78f-aaf5-4ee9-8243-55e6a995e68d",
   "metadata": {},
   "outputs": [],
   "source": [
    "#loading pre-trained word embeddings from the GloVe website\n",
    "embedding_index = {}\n",
    "with open('glove.6B.100d.txt', 'r', encoding='utf-8') as f:\n",
    "    for line in f:\n",
    "        values = line.split()\n",
    "        word = values[0]\n",
    "        coeffs = np.asarray(values[1:], dtype='float32')\n",
    "        embedding_index[word] = coeffs\n"
   ]
  },
  {
   "cell_type": "code",
   "execution_count": 73,
   "id": "8d5d0ee0-27d6-4f98-ad50-f1d9beb108e5",
   "metadata": {},
   "outputs": [],
   "source": [
    "#create embedding matrix\n",
    "embedding_dim = 100  # Dimensionality of the GloVe embeddings \n",
    "vocab_size = len(tokenizer.word_index) + 1  # Adding 1 because of reserved 0 index\n",
    "\n",
    "embedding_matrix = np.zeros((vocab_size, embedding_dim))\n",
    "for word, i in tokenizer.word_index.items():\n",
    "    embedding_vector = embedding_index.get(word)\n",
    "    if embedding_vector is not None:\n",
    "        embedding_matrix[i] = embedding_vector  # Words not found will be all-zeros.\n"
   ]
  },
  {
   "cell_type": "code",
   "execution_count": 74,
   "id": "4dd51ded-e28c-42ce-a7bb-b62a31f2bf6c",
   "metadata": {},
   "outputs": [
    {
     "name": "stdout",
     "output_type": "stream",
     "text": [
      "Model: \"sequential_6\"\n",
      "_________________________________________________________________\n",
      " Layer (type)                Output Shape              Param #   \n",
      "=================================================================\n",
      " embedding_5 (Embedding)     (None, 650, 100)          15400700  \n",
      "                                                                 \n",
      " flatten_4 (Flatten)         (None, 65000)             0         \n",
      "                                                                 \n",
      " dense_13 (Dense)            (None, 32)                2080032   \n",
      "                                                                 \n",
      " dense_14 (Dense)            (None, 1)                 33        \n",
      "                                                                 \n",
      "=================================================================\n",
      "Total params: 17480765 (66.68 MB)\n",
      "Trainable params: 2080065 (7.93 MB)\n",
      "Non-trainable params: 15400700 (58.75 MB)\n",
      "_________________________________________________________________\n"
     ]
    }
   ],
   "source": [
    "#build model\n",
    "from tensorflow.keras.models import Sequential\n",
    "from tensorflow.keras.layers import Embedding, Flatten, Dense\n",
    "\n",
    "model = Sequential([\n",
    "    Embedding(vocab_size, embedding_dim, weights=[embedding_matrix], input_length=X_padded.shape[1], trainable=False),\n",
    "    Flatten(),\n",
    "    Dense(32, activation='relu'),\n",
    "    Dense(1, activation='sigmoid')\n",
    "])\n",
    "\n",
    "model.compile(optimizer='adam', loss='binary_crossentropy', metrics=['accuracy'])\n",
    "model.summary()\n"
   ]
  },
  {
   "cell_type": "code",
   "execution_count": 75,
   "id": "a3d281c0-e2c6-49a6-8ea0-b706ab09ed2f",
   "metadata": {},
   "outputs": [
    {
     "name": "stdout",
     "output_type": "stream",
     "text": [
      "Epoch 1/10\n",
      "373/373 [==============================] - 6s 17ms/step - loss: 0.3142 - accuracy: 0.8650 - val_loss: 0.2216 - val_accuracy: 0.9058\n",
      "Epoch 2/10\n",
      "373/373 [==============================] - 6s 16ms/step - loss: 0.0854 - accuracy: 0.9676 - val_loss: 0.2398 - val_accuracy: 0.9071\n",
      "Epoch 3/10\n",
      "373/373 [==============================] - 6s 16ms/step - loss: 0.0420 - accuracy: 0.9840 - val_loss: 0.2374 - val_accuracy: 0.9095\n",
      "Epoch 4/10\n",
      "373/373 [==============================] - 6s 16ms/step - loss: 0.0283 - accuracy: 0.9883 - val_loss: 0.2539 - val_accuracy: 0.9138\n",
      "Epoch 5/10\n",
      "373/373 [==============================] - 6s 15ms/step - loss: 0.0234 - accuracy: 0.9891 - val_loss: 0.2708 - val_accuracy: 0.9152\n",
      "Epoch 6/10\n",
      "373/373 [==============================] - 6s 16ms/step - loss: 0.0218 - accuracy: 0.9891 - val_loss: 0.2780 - val_accuracy: 0.9145\n",
      "Epoch 7/10\n",
      "373/373 [==============================] - 6s 16ms/step - loss: 0.0206 - accuracy: 0.9894 - val_loss: 0.2901 - val_accuracy: 0.9131\n",
      "Epoch 8/10\n",
      "373/373 [==============================] - 6s 15ms/step - loss: 0.0199 - accuracy: 0.9894 - val_loss: 0.2986 - val_accuracy: 0.9145\n",
      "Epoch 9/10\n",
      "373/373 [==============================] - 6s 16ms/step - loss: 0.0196 - accuracy: 0.9894 - val_loss: 0.3037 - val_accuracy: 0.9155\n",
      "Epoch 10/10\n",
      "373/373 [==============================] - 6s 16ms/step - loss: 0.0193 - accuracy: 0.9894 - val_loss: 0.3116 - val_accuracy: 0.9148\n",
      "117/117 [==============================] - 0s 3ms/step - loss: 0.3167 - accuracy: 0.9139\n",
      "Test Loss: 0.3167154788970947\n",
      "Test Accuracy: 0.9138717651367188\n"
     ]
    }
   ],
   "source": [
    "#Train and Evaluate the Model\n",
    "from sklearn.model_selection import train_test_split\n",
    "\n",
    "X_train, X_test, y_train, y_test = train_test_split(X_padded, y, test_size=0.2, random_state=42)\n",
    "\n",
    "history = model.fit(X_train, y_train, epochs=10, validation_split=0.2)\n",
    "\n",
    "loss, accuracy = model.evaluate(X_test, y_test)\n",
    "print(f'Test Loss: {loss}')\n",
    "print(f'Test Accuracy: {accuracy}')"
   ]
  },
  {
   "cell_type": "markdown",
   "id": "363bf2bc-1aff-4502-b3bc-e610d5db8e23",
   "metadata": {},
   "source": [
    "N-Grams"
   ]
  },
  {
   "cell_type": "code",
   "execution_count": 76,
   "id": "e5863afc-85df-4d08-827e-f7eafbe06528",
   "metadata": {},
   "outputs": [],
   "source": [
    "from sklearn.feature_extraction.text import TfidfVectorizer\n",
    "\n",
    "ngram_range = (1, 3)\n",
    "\n",
    "# Create TF-IDF vectorizer object with n-grams\n",
    "vectorizer = TfidfVectorizer(ngram_range=ngram_range, max_features=10000) \n",
    "\n",
    "# Apply the vectorizer to your text data\n",
    "X_ngrams = vectorizer.fit_transform(df['Cleaned Email Text']).toarray()\n"
   ]
  },
  {
   "cell_type": "code",
   "execution_count": 77,
   "id": "52e97700-40fd-4e32-abd2-f34a49349073",
   "metadata": {},
   "outputs": [],
   "source": [
    "X_train, X_test, y_train, y_test = train_test_split(X_ngrams, y, test_size=0.2, random_state=42)"
   ]
  },
  {
   "cell_type": "code",
   "execution_count": 78,
   "id": "668fdfa4-9cba-4bd6-be3c-7db538b26840",
   "metadata": {},
   "outputs": [],
   "source": [
    "from tensorflow.keras.models import Sequential\n",
    "from tensorflow.keras.layers import Dense, Dropout\n",
    "\n",
    "# Neural network architecture\n",
    "model = Sequential()\n",
    "model.add(Dense(512, activation='relu', input_dim=X_train.shape[1]))\n",
    "model.add(Dropout(0.5))\n",
    "model.add(Dense(256, activation='relu'))\n",
    "model.add(Dropout(0.5))\n",
    "model.add(Dense(1, activation='sigmoid'))\n",
    "\n",
    "# Compile the model\n",
    "model.compile(optimizer='adam', loss='binary_crossentropy', metrics=['accuracy'])\n"
   ]
  },
  {
   "cell_type": "code",
   "execution_count": 79,
   "id": "d67df10d-5e19-49e0-9064-edba6fcad6eb",
   "metadata": {},
   "outputs": [
    {
     "name": "stdout",
     "output_type": "stream",
     "text": [
      "Epoch 1/10\n",
      "420/420 [==============================] - 17s 38ms/step - loss: 0.1341 - accuracy: 0.9371 - val_loss: 0.0757 - val_accuracy: 0.9645\n",
      "Epoch 2/10\n",
      "420/420 [==============================] - 16s 38ms/step - loss: 0.0371 - accuracy: 0.9829 - val_loss: 0.0780 - val_accuracy: 0.9658\n",
      "Epoch 3/10\n",
      "420/420 [==============================] - 16s 38ms/step - loss: 0.0248 - accuracy: 0.9871 - val_loss: 0.0846 - val_accuracy: 0.9665\n",
      "Epoch 4/10\n",
      "420/420 [==============================] - 16s 38ms/step - loss: 0.0219 - accuracy: 0.9887 - val_loss: 0.1018 - val_accuracy: 0.9658\n",
      "Epoch 5/10\n",
      "420/420 [==============================] - 16s 39ms/step - loss: 0.0206 - accuracy: 0.9883 - val_loss: 0.1119 - val_accuracy: 0.9665\n",
      "Epoch 6/10\n",
      "420/420 [==============================] - 16s 39ms/step - loss: 0.0210 - accuracy: 0.9889 - val_loss: 0.1126 - val_accuracy: 0.9658\n",
      "Epoch 7/10\n",
      "420/420 [==============================] - 16s 39ms/step - loss: 0.0207 - accuracy: 0.9885 - val_loss: 0.1100 - val_accuracy: 0.9658\n",
      "Epoch 8/10\n",
      "420/420 [==============================] - 16s 39ms/step - loss: 0.0201 - accuracy: 0.9891 - val_loss: 0.1194 - val_accuracy: 0.9665\n",
      "Epoch 9/10\n",
      "420/420 [==============================] - 16s 38ms/step - loss: 0.0191 - accuracy: 0.9896 - val_loss: 0.1192 - val_accuracy: 0.9658\n",
      "Epoch 10/10\n",
      "420/420 [==============================] - 16s 38ms/step - loss: 0.0199 - accuracy: 0.9888 - val_loss: 0.1155 - val_accuracy: 0.9638\n"
     ]
    }
   ],
   "source": [
    "# Train the model\n",
    "history = model.fit(X_train, y_train, epochs=10, batch_size=32, validation_split=0.1)"
   ]
  },
  {
   "cell_type": "code",
   "execution_count": 80,
   "id": "f67e70ae-3038-4cf5-b3aa-9afeec0378cb",
   "metadata": {},
   "outputs": [
    {
     "name": "stdout",
     "output_type": "stream",
     "text": [
      "117/117 [==============================] - 0s 3ms/step - loss: 0.1331 - accuracy: 0.9686\n",
      "Test Loss: 0.13306885957717896\n",
      "Test Accuracy: 0.97\n"
     ]
    }
   ],
   "source": [
    "# Evaluate the model's performance\n",
    "loss, accuracy = model.evaluate(X_test, y_test)\n",
    "print(f\"Test Loss: {loss}\")\n",
    "print(f\"Test Accuracy: {round(accuracy,2)}\")"
   ]
  },
  {
   "cell_type": "markdown",
   "id": "19025cf2-5bc5-4ada-8b26-7fafa4c877fd",
   "metadata": {},
   "source": [
    "Random Forest with N-grams"
   ]
  },
  {
   "cell_type": "code",
   "execution_count": 81,
   "id": "67b49f9e-a08e-45fb-9d69-ac47b941ecd6",
   "metadata": {},
   "outputs": [
    {
     "data": {
      "text/html": [
       "<style>#sk-container-id-3 {color: black;}#sk-container-id-3 pre{padding: 0;}#sk-container-id-3 div.sk-toggleable {background-color: white;}#sk-container-id-3 label.sk-toggleable__label {cursor: pointer;display: block;width: 100%;margin-bottom: 0;padding: 0.3em;box-sizing: border-box;text-align: center;}#sk-container-id-3 label.sk-toggleable__label-arrow:before {content: \"▸\";float: left;margin-right: 0.25em;color: #696969;}#sk-container-id-3 label.sk-toggleable__label-arrow:hover:before {color: black;}#sk-container-id-3 div.sk-estimator:hover label.sk-toggleable__label-arrow:before {color: black;}#sk-container-id-3 div.sk-toggleable__content {max-height: 0;max-width: 0;overflow: hidden;text-align: left;background-color: #f0f8ff;}#sk-container-id-3 div.sk-toggleable__content pre {margin: 0.2em;color: black;border-radius: 0.25em;background-color: #f0f8ff;}#sk-container-id-3 input.sk-toggleable__control:checked~div.sk-toggleable__content {max-height: 200px;max-width: 100%;overflow: auto;}#sk-container-id-3 input.sk-toggleable__control:checked~label.sk-toggleable__label-arrow:before {content: \"▾\";}#sk-container-id-3 div.sk-estimator input.sk-toggleable__control:checked~label.sk-toggleable__label {background-color: #d4ebff;}#sk-container-id-3 div.sk-label input.sk-toggleable__control:checked~label.sk-toggleable__label {background-color: #d4ebff;}#sk-container-id-3 input.sk-hidden--visually {border: 0;clip: rect(1px 1px 1px 1px);clip: rect(1px, 1px, 1px, 1px);height: 1px;margin: -1px;overflow: hidden;padding: 0;position: absolute;width: 1px;}#sk-container-id-3 div.sk-estimator {font-family: monospace;background-color: #f0f8ff;border: 1px dotted black;border-radius: 0.25em;box-sizing: border-box;margin-bottom: 0.5em;}#sk-container-id-3 div.sk-estimator:hover {background-color: #d4ebff;}#sk-container-id-3 div.sk-parallel-item::after {content: \"\";width: 100%;border-bottom: 1px solid gray;flex-grow: 1;}#sk-container-id-3 div.sk-label:hover label.sk-toggleable__label {background-color: #d4ebff;}#sk-container-id-3 div.sk-serial::before {content: \"\";position: absolute;border-left: 1px solid gray;box-sizing: border-box;top: 0;bottom: 0;left: 50%;z-index: 0;}#sk-container-id-3 div.sk-serial {display: flex;flex-direction: column;align-items: center;background-color: white;padding-right: 0.2em;padding-left: 0.2em;position: relative;}#sk-container-id-3 div.sk-item {position: relative;z-index: 1;}#sk-container-id-3 div.sk-parallel {display: flex;align-items: stretch;justify-content: center;background-color: white;position: relative;}#sk-container-id-3 div.sk-item::before, #sk-container-id-3 div.sk-parallel-item::before {content: \"\";position: absolute;border-left: 1px solid gray;box-sizing: border-box;top: 0;bottom: 0;left: 50%;z-index: -1;}#sk-container-id-3 div.sk-parallel-item {display: flex;flex-direction: column;z-index: 1;position: relative;background-color: white;}#sk-container-id-3 div.sk-parallel-item:first-child::after {align-self: flex-end;width: 50%;}#sk-container-id-3 div.sk-parallel-item:last-child::after {align-self: flex-start;width: 50%;}#sk-container-id-3 div.sk-parallel-item:only-child::after {width: 0;}#sk-container-id-3 div.sk-dashed-wrapped {border: 1px dashed gray;margin: 0 0.4em 0.5em 0.4em;box-sizing: border-box;padding-bottom: 0.4em;background-color: white;}#sk-container-id-3 div.sk-label label {font-family: monospace;font-weight: bold;display: inline-block;line-height: 1.2em;}#sk-container-id-3 div.sk-label-container {text-align: center;}#sk-container-id-3 div.sk-container {/* jupyter's `normalize.less` sets `[hidden] { display: none; }` but bootstrap.min.css set `[hidden] { display: none !important; }` so we also need the `!important` here to be able to override the default hidden behavior on the sphinx rendered scikit-learn.org. See: https://github.com/scikit-learn/scikit-learn/issues/21755 */display: inline-block !important;position: relative;}#sk-container-id-3 div.sk-text-repr-fallback {display: none;}</style><div id=\"sk-container-id-3\" class=\"sk-top-container\"><div class=\"sk-text-repr-fallback\"><pre>RandomForestClassifier(random_state=42)</pre><b>In a Jupyter environment, please rerun this cell to show the HTML representation or trust the notebook. <br />On GitHub, the HTML representation is unable to render, please try loading this page with nbviewer.org.</b></div><div class=\"sk-container\" hidden><div class=\"sk-item\"><div class=\"sk-estimator sk-toggleable\"><input class=\"sk-toggleable__control sk-hidden--visually\" id=\"sk-estimator-id-3\" type=\"checkbox\" checked><label for=\"sk-estimator-id-3\" class=\"sk-toggleable__label sk-toggleable__label-arrow\">RandomForestClassifier</label><div class=\"sk-toggleable__content\"><pre>RandomForestClassifier(random_state=42)</pre></div></div></div></div></div>"
      ],
      "text/plain": [
       "RandomForestClassifier(random_state=42)"
      ]
     },
     "execution_count": 81,
     "metadata": {},
     "output_type": "execute_result"
    }
   ],
   "source": [
    "from sklearn.ensemble import RandomForestClassifier\n",
    "\n",
    "# Initialize the Random Forest classifier\n",
    "rf_classifier = RandomForestClassifier(n_estimators=100, random_state=42)\n",
    "\n",
    "# Train the classifier\n",
    "rf_classifier.fit(X_train, y_train)"
   ]
  },
  {
   "cell_type": "code",
   "execution_count": 82,
   "id": "194514c6-8768-4098-a335-27e25d4e3e45",
   "metadata": {},
   "outputs": [
    {
     "name": "stdout",
     "output_type": "stream",
     "text": [
      "Accuracy: 0.9656560236114837\n",
      "              precision    recall  f1-score   support\n",
      "\n",
      "           0       0.99      0.95      0.97      2209\n",
      "           1       0.94      0.98      0.96      1518\n",
      "\n",
      "    accuracy                           0.97      3727\n",
      "   macro avg       0.96      0.97      0.96      3727\n",
      "weighted avg       0.97      0.97      0.97      3727\n",
      "\n"
     ]
    }
   ],
   "source": [
    "from sklearn.metrics import accuracy_score, classification_report\n",
    "\n",
    "# Make predictions\n",
    "y_pred = rf_classifier.predict(X_test)\n",
    "\n",
    "# Calculate accuracy\n",
    "accuracy = accuracy_score(y_test, y_pred)\n",
    "print(f\"Accuracy: {accuracy}\")\n",
    "\n",
    "# Detailed classification report\n",
    "print(classification_report(y_test, y_pred))"
   ]
  },
  {
   "cell_type": "markdown",
   "id": "7ca4839f-d2f5-4cbe-996c-2d31e187c90c",
   "metadata": {},
   "source": [
    "Naive Bayes with N-Grams"
   ]
  },
  {
   "cell_type": "code",
   "execution_count": 83,
   "id": "756236e5-4865-48f2-90a0-84c2471f10da",
   "metadata": {},
   "outputs": [
    {
     "data": {
      "text/html": [
       "<style>#sk-container-id-4 {color: black;}#sk-container-id-4 pre{padding: 0;}#sk-container-id-4 div.sk-toggleable {background-color: white;}#sk-container-id-4 label.sk-toggleable__label {cursor: pointer;display: block;width: 100%;margin-bottom: 0;padding: 0.3em;box-sizing: border-box;text-align: center;}#sk-container-id-4 label.sk-toggleable__label-arrow:before {content: \"▸\";float: left;margin-right: 0.25em;color: #696969;}#sk-container-id-4 label.sk-toggleable__label-arrow:hover:before {color: black;}#sk-container-id-4 div.sk-estimator:hover label.sk-toggleable__label-arrow:before {color: black;}#sk-container-id-4 div.sk-toggleable__content {max-height: 0;max-width: 0;overflow: hidden;text-align: left;background-color: #f0f8ff;}#sk-container-id-4 div.sk-toggleable__content pre {margin: 0.2em;color: black;border-radius: 0.25em;background-color: #f0f8ff;}#sk-container-id-4 input.sk-toggleable__control:checked~div.sk-toggleable__content {max-height: 200px;max-width: 100%;overflow: auto;}#sk-container-id-4 input.sk-toggleable__control:checked~label.sk-toggleable__label-arrow:before {content: \"▾\";}#sk-container-id-4 div.sk-estimator input.sk-toggleable__control:checked~label.sk-toggleable__label {background-color: #d4ebff;}#sk-container-id-4 div.sk-label input.sk-toggleable__control:checked~label.sk-toggleable__label {background-color: #d4ebff;}#sk-container-id-4 input.sk-hidden--visually {border: 0;clip: rect(1px 1px 1px 1px);clip: rect(1px, 1px, 1px, 1px);height: 1px;margin: -1px;overflow: hidden;padding: 0;position: absolute;width: 1px;}#sk-container-id-4 div.sk-estimator {font-family: monospace;background-color: #f0f8ff;border: 1px dotted black;border-radius: 0.25em;box-sizing: border-box;margin-bottom: 0.5em;}#sk-container-id-4 div.sk-estimator:hover {background-color: #d4ebff;}#sk-container-id-4 div.sk-parallel-item::after {content: \"\";width: 100%;border-bottom: 1px solid gray;flex-grow: 1;}#sk-container-id-4 div.sk-label:hover label.sk-toggleable__label {background-color: #d4ebff;}#sk-container-id-4 div.sk-serial::before {content: \"\";position: absolute;border-left: 1px solid gray;box-sizing: border-box;top: 0;bottom: 0;left: 50%;z-index: 0;}#sk-container-id-4 div.sk-serial {display: flex;flex-direction: column;align-items: center;background-color: white;padding-right: 0.2em;padding-left: 0.2em;position: relative;}#sk-container-id-4 div.sk-item {position: relative;z-index: 1;}#sk-container-id-4 div.sk-parallel {display: flex;align-items: stretch;justify-content: center;background-color: white;position: relative;}#sk-container-id-4 div.sk-item::before, #sk-container-id-4 div.sk-parallel-item::before {content: \"\";position: absolute;border-left: 1px solid gray;box-sizing: border-box;top: 0;bottom: 0;left: 50%;z-index: -1;}#sk-container-id-4 div.sk-parallel-item {display: flex;flex-direction: column;z-index: 1;position: relative;background-color: white;}#sk-container-id-4 div.sk-parallel-item:first-child::after {align-self: flex-end;width: 50%;}#sk-container-id-4 div.sk-parallel-item:last-child::after {align-self: flex-start;width: 50%;}#sk-container-id-4 div.sk-parallel-item:only-child::after {width: 0;}#sk-container-id-4 div.sk-dashed-wrapped {border: 1px dashed gray;margin: 0 0.4em 0.5em 0.4em;box-sizing: border-box;padding-bottom: 0.4em;background-color: white;}#sk-container-id-4 div.sk-label label {font-family: monospace;font-weight: bold;display: inline-block;line-height: 1.2em;}#sk-container-id-4 div.sk-label-container {text-align: center;}#sk-container-id-4 div.sk-container {/* jupyter's `normalize.less` sets `[hidden] { display: none; }` but bootstrap.min.css set `[hidden] { display: none !important; }` so we also need the `!important` here to be able to override the default hidden behavior on the sphinx rendered scikit-learn.org. See: https://github.com/scikit-learn/scikit-learn/issues/21755 */display: inline-block !important;position: relative;}#sk-container-id-4 div.sk-text-repr-fallback {display: none;}</style><div id=\"sk-container-id-4\" class=\"sk-top-container\"><div class=\"sk-text-repr-fallback\"><pre>MultinomialNB()</pre><b>In a Jupyter environment, please rerun this cell to show the HTML representation or trust the notebook. <br />On GitHub, the HTML representation is unable to render, please try loading this page with nbviewer.org.</b></div><div class=\"sk-container\" hidden><div class=\"sk-item\"><div class=\"sk-estimator sk-toggleable\"><input class=\"sk-toggleable__control sk-hidden--visually\" id=\"sk-estimator-id-4\" type=\"checkbox\" checked><label for=\"sk-estimator-id-4\" class=\"sk-toggleable__label sk-toggleable__label-arrow\">MultinomialNB</label><div class=\"sk-toggleable__content\"><pre>MultinomialNB()</pre></div></div></div></div></div>"
      ],
      "text/plain": [
       "MultinomialNB()"
      ]
     },
     "execution_count": 83,
     "metadata": {},
     "output_type": "execute_result"
    }
   ],
   "source": [
    "from sklearn.naive_bayes import MultinomialNB\n",
    "\n",
    "# Initialize the Naive Bayes classifier\n",
    "nb_classifier = MultinomialNB()\n",
    "\n",
    "# Train the classifier\n",
    "nb_classifier.fit(X_train, y_train)\n"
   ]
  },
  {
   "cell_type": "code",
   "execution_count": 84,
   "id": "065f9888-2416-47ac-ada7-8f3d028261b0",
   "metadata": {},
   "outputs": [
    {
     "name": "stdout",
     "output_type": "stream",
     "text": [
      "Accuracy: 0.962167963509525\n",
      "              precision    recall  f1-score   support\n",
      "\n",
      "           0       0.98      0.96      0.97      2209\n",
      "           1       0.94      0.97      0.95      1518\n",
      "\n",
      "    accuracy                           0.96      3727\n",
      "   macro avg       0.96      0.96      0.96      3727\n",
      "weighted avg       0.96      0.96      0.96      3727\n",
      "\n"
     ]
    }
   ],
   "source": [
    "from sklearn.metrics import accuracy_score, classification_report\n",
    "\n",
    "# Make predictions\n",
    "y_pred = nb_classifier.predict(X_test)\n",
    "\n",
    "# Calculate accuracy\n",
    "accuracy = accuracy_score(y_test, y_pred)\n",
    "print(f\"Accuracy: {accuracy}\")\n",
    "\n",
    "# Detailed classification report\n",
    "print(classification_report(y_test, y_pred))\n"
   ]
  },
  {
   "cell_type": "code",
   "execution_count": null,
   "id": "272cdc08-5328-43a6-8c1a-d27a52e968b3",
   "metadata": {},
   "outputs": [],
   "source": []
  }
 ],
 "metadata": {
  "kernelspec": {
   "display_name": "Python 3 (ipykernel)",
   "language": "python",
   "name": "python3"
  },
  "language_info": {
   "codemirror_mode": {
    "name": "ipython",
    "version": 3
   },
   "file_extension": ".py",
   "mimetype": "text/x-python",
   "name": "python",
   "nbconvert_exporter": "python",
   "pygments_lexer": "ipython3",
   "version": "3.10.9"
  }
 },
 "nbformat": 4,
 "nbformat_minor": 5
}
